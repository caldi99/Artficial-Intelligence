{
 "cells": [
  {
   "cell_type": "markdown",
   "id": "42fe7e9e",
   "metadata": {},
   "source": [
    "# FaceMask Detector"
   ]
  },
  {
   "cell_type": "code",
   "execution_count": 1,
   "id": "27117389",
   "metadata": {},
   "outputs": [],
   "source": [
    "from tensorflow.keras.applications.mobilenet_v2 import preprocess_input\n",
    "from tensorflow.keras.preprocessing.image import img_to_array\n",
    "from tensorflow.keras.models import load_model\n",
    "from imutils.video import VideoStream\n",
    "import numpy as np\n",
    "import imutils\n",
    "import cv2"
   ]
  },
  {
   "cell_type": "code",
   "execution_count": 2,
   "id": "cf723afb",
   "metadata": {},
   "outputs": [],
   "source": [
    "img_size = 224\n",
    "threshold = 0.5\n",
    "frame_dimension = 600\n",
    "red_color = (0, 0, 255)\n",
    "green_color = (0, 255, 0)\n",
    "mask_label = \"Mask\"\n",
    "no_mask_label = \"No Mask\"\n",
    "quit_key = \"q\""
   ]
  },
  {
   "cell_type": "code",
   "execution_count": 3,
   "id": "3af71e2c",
   "metadata": {},
   "outputs": [],
   "source": [
    "def detect_and_predict_mask(frame, faceNet, maskNet):\n",
    "    (h, w) = frame.shape[:2] #take dimensions of the frame\n",
    "    blob = cv2.dnn.blobFromImage(frame, 1.0, (img_size, img_size), (104.0, 177.0, 123.0))#construct a blob\n",
    "\n",
    "    faceNet.setInput(blob) \n",
    "    detections = faceNet.forward()#detect faces\n",
    "    \n",
    "    faces = []\n",
    "    locs = []\n",
    "    preds = []\n",
    "    \n",
    "    for i in range(0, detections.shape[2]):        \n",
    "        confidence = detections[0, 0, i, 2]\n",
    "        \n",
    "        if confidence > threshold:\n",
    "            box = detections[0, 0, i, 3:7] * np.array([w, h, w, h]) #x and y coordinates of the box\n",
    "            (startX, startY, endX, endY) = box.astype(\"int\")\n",
    "\n",
    "            # make sure that the bounding boxes do not fall outside the dimension of the frame\n",
    "            (startX, startY) = (max(0, startX), max(0, startY))\n",
    "            (endX, endY) = (min(w - 1, endX), min(h - 1, endY))\n",
    "\n",
    "            # extract the face ROI, convert it from BGR to RGB channel ordering, resize it to 224x224, and preprocess it\n",
    "            face = frame[startY:endY, startX:endX]\n",
    "            face = cv2.cvtColor(face, cv2.COLOR_BGR2RGB)\n",
    "            face = cv2.resize(face, (img_size, img_size))\n",
    "            face = img_to_array(face)            \n",
    "            face = preprocess_input(face)\n",
    "\n",
    "            # add the face and bounding boxes to their respective lists\n",
    "            faces.append(face)\n",
    "            locs.append((startX, startY, endX, endY))\n",
    "\n",
    "    \n",
    "    if len(faces) > 0: #make predictions only if faces are detected       \n",
    "        faces = np.array(faces, dtype=\"float32\")\n",
    "        preds = maskNet.predict(faces, batch_size=32) #batch prediction to make prediction faster\n",
    "        \n",
    "    return (locs, preds) #locations of the faces and their predictions"
   ]
  },
  {
   "cell_type": "code",
   "execution_count": 4,
   "id": "04820eaf",
   "metadata": {},
   "outputs": [
    {
     "name": "stdout",
     "output_type": "stream",
     "text": [
      "[INFO] Loading face_detector model...\n",
      "[INFO] Loading mask_detector model...\n",
      "[INFO] Starting video stream...\n",
      "[INFO] Detecting in progress...\n",
      "[INFO] cleaning up...\n",
      "[INFO] cleanup terminated\n"
     ]
    }
   ],
   "source": [
    "print(\"[INFO] Loading face_detector model...\")\n",
    "prototxtPath = r\"models\\face_detector\\deploy.prototxt\"\n",
    "weightsPath = r\"models\\face_detector\\res10_300x300_ssd_iter_140000.caffemodel\"\n",
    "faceNet = cv2.dnn.readNet(prototxtPath, weightsPath)\n",
    "\n",
    "print(\"[INFO] Loading mask_detector model...\")\n",
    "maskNet = load_model(\"models\\mask_detector\\model.h5\")\n",
    "\n",
    "print(\"[INFO] Starting video stream...\")\n",
    "vs = VideoStream(src=0).start()\n",
    "\n",
    "print(\"[INFO] Detecting in progress...\")\n",
    "while True:        \n",
    "    frame = vs.read()\n",
    "    frame = imutils.resize(frame, width=frame_dimension)\n",
    "    \n",
    "    (locs, preds) = detect_and_predict_mask(frame, faceNet, maskNet)\n",
    "        \n",
    "    for (box, pred) in zip(locs, preds):\n",
    "        \n",
    "        (startX, startY, endX, endY) = box #face box\n",
    "        (mask, withoutMask) = pred #prediction\n",
    "        \n",
    "        label = \"\"\n",
    "        \n",
    "        if(mask > withoutMask):\n",
    "            label = mask_label\n",
    "        else:\n",
    "            label = no_mask_label\n",
    "        \n",
    "        color = (0,0,0)\n",
    "        \n",
    "        if(label == mask_label):\n",
    "            color = green_color\n",
    "        else:\n",
    "            color = red_color\n",
    "        \n",
    "        label = \"{}: {:.2f}%\".format(label, max(mask, withoutMask) * 100) # add the probability\n",
    "\n",
    "        # display the label and bounding box rectangle on the output frame\n",
    "        cv2.putText(frame, label, (startX, startY - 10), cv2.FONT_HERSHEY_SIMPLEX, 0.45, color, 2)\n",
    "        cv2.rectangle(frame, (startX, startY), (endX, endY), color, 2)\n",
    "    \n",
    "    cv2.imshow(\"Detecting Mask\", frame) # show the output frame\n",
    "    \n",
    "    key = cv2.waitKey(1) & 0xFF\n",
    "    if key == ord(quit_key):\n",
    "        break\n",
    "\n",
    "print(\"[INFO] cleaning up...\")\n",
    "cv2.destroyAllWindows()\n",
    "vs.stop()\n",
    "vs.stream.release()\n",
    "print(\"[INFO] cleanup terminated\")\n"
   ]
  }
 ],
 "metadata": {
  "kernelspec": {
   "display_name": "Python 3",
   "language": "python",
   "name": "python3"
  },
  "language_info": {
   "codemirror_mode": {
    "name": "ipython",
    "version": 3
   },
   "file_extension": ".py",
   "mimetype": "text/x-python",
   "name": "python",
   "nbconvert_exporter": "python",
   "pygments_lexer": "ipython3",
   "version": "3.8.8"
  }
 },
 "nbformat": 4,
 "nbformat_minor": 5
}
