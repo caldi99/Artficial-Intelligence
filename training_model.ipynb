{
 "cells": [
  {
   "cell_type": "markdown",
   "id": "d1c0d4d4",
   "metadata": {},
   "source": [
    "# In this notebook we are going to train the model that we are going to use for our final purposes"
   ]
  },
  {
   "cell_type": "code",
   "execution_count": 1,
   "id": "3975e567",
   "metadata": {},
   "outputs": [],
   "source": [
    "import pickle\n",
    "import tensorflow as tf\n",
    "from tensorflow.keras.preprocessing.image import ImageDataGenerator\n",
    "from tensorflow.keras.applications import ResNet50V2\n",
    "from tensorflow.keras.layers import Input\n",
    "from tensorflow.keras import layers\n",
    "import matplotlib.pyplot as plt"
   ]
  },
  {
   "cell_type": "markdown",
   "id": "b4f14f53",
   "metadata": {},
   "source": [
    "## Load Training, Validation and Test Data"
   ]
  },
  {
   "cell_type": "code",
   "execution_count": 2,
   "id": "61be87de",
   "metadata": {},
   "outputs": [],
   "source": [
    "pickle_in =  open(\"data\\X_train.data\",\"rb\")\n",
    "X_train = pickle.load(pickle_in)\n",
    "pickle_in.close()\n",
    "\n",
    "pickle_in =  open(\"data\\X_validation.data\",\"rb\")\n",
    "X_validation = pickle.load(pickle_in)\n",
    "pickle_in.close()\n",
    "\n",
    "pickle_in =  open(\"data\\X_test.data\",\"rb\")\n",
    "X_test = pickle.load(pickle_in)\n",
    "pickle_in.close()\n",
    "\n",
    "pickle_in =  open(\"data\\y_train.data\",\"rb\")\n",
    "y_train = pickle.load(pickle_in)\n",
    "pickle_in.close()\n",
    "\n",
    "pickle_in =  open(\"data\\y_validation.data\",\"rb\")\n",
    "y_validation = pickle.load(pickle_in)\n",
    "pickle_in.close()\n",
    "\n",
    "pickle_in =  open(\"data\\y_test.data\",\"rb\")\n",
    "y_test = pickle.load(pickle_in)\n",
    "pickle_in.close()"
   ]
  },
  {
   "cell_type": "markdown",
   "id": "c7c27016",
   "metadata": {},
   "source": [
    "## Model preparation"
   ]
  },
  {
   "cell_type": "code",
   "execution_count": 3,
   "id": "622404c6",
   "metadata": {},
   "outputs": [],
   "source": [
    "img_size = 224\n",
    "channels = 3\n",
    "\n",
    "\n",
    "aug = ImageDataGenerator(rotation_range = 20,\n",
    "                         zoom_range = 0.15,\n",
    "                         width_shift_range = 0.2,\n",
    "                         height_shift_range = 0.2,\n",
    "                         shear_range = 0.15,\n",
    "                         horizontal_flip = True,\n",
    "                         fill_mode = \"nearest\")\n",
    "\n",
    "\n",
    "feature_extractor_layer = ResNet50V2(weights = \"imagenet\", #pretrained deep neural network with imaagenet dataset\n",
    "                                   include_top = False, # do not inclued the fully connected layers because we are applying fine tuning\n",
    "                                   input_tensor = Input(shape = (img_size,img_size,channels))) #size of the input\n",
    "\n",
    "feature_extractor_layer.trainable = False #fine tuning\n",
    "\n",
    "model = tf.keras.Sequential([\n",
    "    feature_extractor_layer,\n",
    "    layers.Flatten(name=\"flatten\"),\n",
    "    layers.Dense(1024, activation='relu', name='hidden_layer'),\n",
    "    layers.Dropout(0.5),\n",
    "    layers.Dense(2, activation='sigmoid', name='output') #2 nodes one for each class\n",
    "])\n",
    "\n",
    "LR = 1e-5\n",
    "\n",
    "model.compile(optimizer = tf.keras.optimizers.Adam(learning_rate = LR),\n",
    "              loss = \"binary_crossentropy\", \n",
    "              metrics = [\"accuracy\"])\n",
    "\n",
    "callback = tf.keras.callbacks.ModelCheckpoint('model_last.h5', \n",
    "                                              monitor = 'val_loss', \n",
    "                                              mode='min',\n",
    "                                              verbose = 1)\n"
   ]
  },
  {
   "cell_type": "markdown",
   "id": "578a5c63",
   "metadata": {},
   "source": [
    "## Train of the Neural Network"
   ]
  },
  {
   "cell_type": "code",
   "execution_count": 4,
   "id": "8c993471",
   "metadata": {},
   "outputs": [
    {
     "name": "stdout",
     "output_type": "stream",
     "text": [
      "Epoch 1/5\n",
      "17/17 [==============================] - ETA: 0s - loss: 0.3342 - accuracy: 0.8968\n",
      "Epoch 1: saving model to model_last.h5\n",
      "17/17 [==============================] - 44s 2s/step - loss: 0.3342 - accuracy: 0.8968 - val_loss: 0.0704 - val_accuracy: 0.9752\n",
      "Epoch 2/5\n",
      "17/17 [==============================] - ETA: 0s - loss: 0.0645 - accuracy: 0.9853\n",
      "Epoch 2: saving model to model_last.h5\n",
      "17/17 [==============================] - 37s 2s/step - loss: 0.0645 - accuracy: 0.9853 - val_loss: 0.0555 - val_accuracy: 0.9869\n",
      "Epoch 3/5\n",
      "17/17 [==============================] - ETA: 0s - loss: 0.0528 - accuracy: 0.9889\n",
      "Epoch 3: saving model to model_last.h5\n",
      "17/17 [==============================] - 36s 2s/step - loss: 0.0528 - accuracy: 0.9889 - val_loss: 0.0473 - val_accuracy: 0.9856\n",
      "Epoch 4/5\n",
      "17/17 [==============================] - ETA: 0s - loss: 0.0497 - accuracy: 0.9880\n",
      "Epoch 4: saving model to model_last.h5\n",
      "17/17 [==============================] - 38s 2s/step - loss: 0.0497 - accuracy: 0.9880 - val_loss: 0.0389 - val_accuracy: 0.9883\n",
      "Epoch 5/5\n",
      "17/17 [==============================] - ETA: 0s - loss: 0.0293 - accuracy: 0.9949\n",
      "Epoch 5: saving model to model_last.h5\n",
      "17/17 [==============================] - 38s 2s/step - loss: 0.0293 - accuracy: 0.9949 - val_loss: 0.0352 - val_accuracy: 0.9922\n"
     ]
    }
   ],
   "source": [
    "EPOCHS = 5\n",
    "BS = 128\n",
    "\n",
    "history = model.fit(aug.flow(X_train, y_train, batch_size=BS), \n",
    "                    epochs = EPOCHS,\n",
    "                    steps_per_epoch = len(X_train) // BS, \n",
    "                    validation_data = (X_validation, y_validation), \n",
    "                    callbacks = [callback])\n"
   ]
  },
  {
   "cell_type": "markdown",
   "id": "163a9ff0",
   "metadata": {},
   "source": [
    "## Results"
   ]
  },
  {
   "cell_type": "code",
   "execution_count": 7,
   "id": "16a15e8e",
   "metadata": {},
   "outputs": [
    {
     "name": "stdout",
     "output_type": "stream",
     "text": [
      "dict_keys(['loss', 'accuracy', 'val_loss', 'val_accuracy'])\n"
     ]
    },
    {
     "data": {
      "image/png": "[encoded data removed]",
      "text/plain": [
       "<Figure size 432x288 with 1 Axes>"
      ]
     },
     "metadata": {
      "needs_background": "light"
     },
     "output_type": "display_data"
    },
    {
     "data": {
      "image/png": "[encoded data removed]",
      "text/plain": [
       "<Figure size 432x288 with 1 Axes>"
      ]
     },
     "metadata": {
      "needs_background": "light"
     },
     "output_type": "display_data"
    }
   ],
   "source": [
    "print(history.history.keys())\n",
    "# summarize history for accuracy\n",
    "plt.plot(history.history['accuracy'])\n",
    "plt.plot(history.history['val_accuracy'])\n",
    "plt.title('model accuracy')\n",
    "plt.ylabel('accuracy')\n",
    "plt.xlabel('epoch')\n",
    "plt.legend(['train', 'validation'], loc='upper left')\n",
    "plt.show()\n",
    "# summarize history for loss\n",
    "plt.plot(history.history['loss'])\n",
    "plt.plot(history.history['val_loss'])\n",
    "plt.title('model loss')\n",
    "plt.ylabel('loss')\n",
    "plt.xlabel('epoch')\n",
    "plt.legend(['train', 'validation'], loc='upper left')\n",
    "plt.show()"
   ]
  },
  {
   "cell_type": "markdown",
   "id": "fc7158ea",
   "metadata": {},
   "source": [
    "## Performances on the Test Set"
   ]
  },
  {
   "cell_type": "code",
   "execution_count": 4,
   "id": "da90da88",
   "metadata": {},
   "outputs": [],
   "source": [
    "import numpy as np\n",
    "predicted = []\n",
    "for with_mask,without_mask in predictions:\n",
    "    if(with_mask > without_mask):\n",
    "        predicted.append([1,0])\n",
    "    else:\n",
    "        predicted.append([0,1])\n",
    "predicted = np.array(predicted)"
   ]
  },
  {
   "cell_type": "code",
   "execution_count": 5,
   "id": "5df3240e",
   "metadata": {},
   "outputs": [],
   "source": [
    "def transform_to_labels(array):\n",
    "    labels = []\n",
    "    for mask,no_mask in array:\n",
    "        if(mask == 1):\n",
    "            labels.append(0)\n",
    "        else:\n",
    "            labels.append(1)\n",
    "    return np.array(labels)"
   ]
  },
  {
   "cell_type": "code",
   "execution_count": 6,
   "id": "082e1650",
   "metadata": {},
   "outputs": [],
   "source": [
    "predicted_labels = transform_to_labels(predicted)\n",
    "y_test = transform_to_labels(y_test)"
   ]
  },
  {
   "cell_type": "code",
   "execution_count": 8,
   "id": "31a30c68",
   "metadata": {},
   "outputs": [
    {
     "name": "stdout",
     "output_type": "stream",
     "text": [
      "Accuracy on the Test Set :  0.9934810951760105\n"
     ]
    }
   ],
   "source": [
    "print(\"Accuracy on the Test Set : \" , ((len(y_test) - np.count_nonzero((predicted_labels + y_test) == 1)) / len(y_test)))"
   ]
  }
 ],
 "metadata": {
  "kernelspec": {
   "display_name": "Python 3",
   "language": "python",
   "name": "python3"
  },
  "language_info": {
   "codemirror_mode": {
    "name": "ipython",
    "version": 3
   },
   "file_extension": ".py",
   "mimetype": "text/x-python",
   "name": "python",
   "nbconvert_exporter": "python",
   "pygments_lexer": "ipython3",
   "version": "3.8.8"
  }
 },
 "nbformat": 4,
 "nbformat_minor": 5
}
