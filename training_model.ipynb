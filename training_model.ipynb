{
 "cells": [
  {
   "cell_type": "code",
   "execution_count": 2,
   "id": "8dd7ac37",
   "metadata": {},
   "outputs": [],
   "source": [
    "import os\n",
    "import numpy as np\n",
    "import cv2\n",
    "import random\n",
    "import pickle\n",
    "import tensorflow as tf\n",
    "from tensorflow import keras\n",
    "from tensorflow.keras import layers\n",
    "import matplotlib.pyplot as plt"
   ]
  },
  {
   "cell_type": "markdown",
   "id": "af8e1e56",
   "metadata": {},
   "source": [
    "# Read names of the images"
   ]
  },
  {
   "cell_type": "code",
   "execution_count": 3,
   "id": "2dabdec9",
   "metadata": {},
   "outputs": [],
   "source": [
    "path = \"dataset\"\n",
    "with_mask = \"with_mask\" #0\n",
    "without_mask = \"without_mask\" #+1\n",
    "img_size = 224\n",
    "\n",
    "names_images_with_mask = np.array(os.listdir(os.path.join(path,with_mask)))\n",
    "names_images_without_mask = np.array(os.listdir(os.path.join(path,without_mask)))"
   ]
  },
  {
   "cell_type": "markdown",
   "id": "0d06bba4",
   "metadata": {},
   "source": [
    "# Read images"
   ]
  },
  {
   "cell_type": "code",
   "execution_count": 4,
   "id": "6c1191ec",
   "metadata": {},
   "outputs": [],
   "source": [
    "def read_images(general_path,names_images,index_class):\n",
    "    images_classes = []\n",
    "    for name in names_images:\n",
    "        try:\n",
    "            img = cv2.resize(cv2.imread(general_path + \"\\\\\" + name ),(img_size,img_size))\n",
    "            images_classes.append([img,index_class])\n",
    "        except Exception as e:\n",
    "            pass\n",
    "    return images_classes"
   ]
  },
  {
   "cell_type": "code",
   "execution_count": 5,
   "id": "6422df9b",
   "metadata": {},
   "outputs": [],
   "source": [
    "images_with_mask = read_images(os.path.join(path,with_mask),names_images_with_mask,0)\n",
    "images_without_mask = read_images(os.path.join(path,without_mask),names_images_without_mask,1)"
   ]
  },
  {
   "cell_type": "markdown",
   "id": "e391f552",
   "metadata": {},
   "source": [
    "# Create training data"
   ]
  },
  {
   "cell_type": "code",
   "execution_count": 6,
   "id": "90a10805",
   "metadata": {},
   "outputs": [],
   "source": [
    "def create_training_data(images_with_mask,images_without_mask):\n",
    "    return images_with_mask + images_without_mask"
   ]
  },
  {
   "cell_type": "code",
   "execution_count": 7,
   "id": "0cc32f85",
   "metadata": {},
   "outputs": [],
   "source": [
    "training_data = create_training_data(images_with_mask,images_without_mask)\n",
    "random.shuffle(training_data)"
   ]
  },
  {
   "cell_type": "markdown",
   "id": "ac539e1f",
   "metadata": {},
   "source": [
    "# Design Matrix and Vector of Labels"
   ]
  },
  {
   "cell_type": "code",
   "execution_count": 8,
   "id": "370cce1e",
   "metadata": {},
   "outputs": [],
   "source": [
    "X = []\n",
    "y = []\n",
    "for features, label in training_data:\n",
    "    X.append(features)\n",
    "    y.append(label)\n",
    "\n",
    "X = np.array(X).reshape(-1,img_size,img_size,3)\n",
    "y = np.array(y)\n",
    "X = X/255.0"
   ]
  },
  {
   "cell_type": "markdown",
   "id": "28d1bee1",
   "metadata": {},
   "source": [
    "# Split into Training, Validation and Test Set"
   ]
  },
  {
   "cell_type": "code",
   "execution_count": 9,
   "id": "15e90c73",
   "metadata": {},
   "outputs": [],
   "source": [
    "training_size = round(0.6 * X.shape[0])\n",
    "validation_size = round(0.2 * X.shape[0])\n",
    "test_size = X.shape[0] - training_size - validation_size\n",
    "\n",
    "X_train = X[0:training_size,:,:,:]\n",
    "X_validation = X[training_size : training_size + validation_size,:,:,:]\n",
    "X_test = X[training_size + validation_size: X.shape[0],:,:,:]\n",
    "\n",
    "y_train = y[0:training_size]\n",
    "y_validation = y[training_size : training_size + validation_size]\n",
    "y_test = y[training_size + validation_size: len(y)]"
   ]
  },
  {
   "cell_type": "markdown",
   "id": "696ae2c6",
   "metadata": {},
   "source": [
    "# Save and Load Training, Validation and Test Data"
   ]
  },
  {
   "cell_type": "code",
   "execution_count": 10,
   "id": "6efc3a91",
   "metadata": {},
   "outputs": [],
   "source": [
    "pickle_out = open(\"models_new\\X_train.pickle\",\"wb\")\n",
    "pickle.dump(X_train,pickle_out,protocol=4) #more than 4 gb\n",
    "pickle_out = open(\"models_new\\X_validation.pickle\",\"wb\")\n",
    "pickle.dump(X_validation,pickle_out,protocol=4) #more than 4 gb\n",
    "pickle_out = open(\"models_new\\X_test.pickle\",\"wb\")\n",
    "pickle.dump(X_test,pickle_out,protocol=4) #more than 4 gb\n",
    "pickle_out.close()\n",
    "\n",
    "pickle_out = open(\"models_new\\y_train.pickle\",\"wb\")\n",
    "pickle.dump(y_train,pickle_out)\n",
    "pickle_out = open(\"models_new\\y_validation.pickle\",\"wb\")\n",
    "pickle.dump(y_validation,pickle_out)\n",
    "pickle_out = open(\"models_new\\y_test.pickle\",\"wb\")\n",
    "pickle.dump(y_test,pickle_out)\n",
    "pickle_out.close()"
   ]
  },
  {
   "cell_type": "code",
   "execution_count": null,
   "id": "e5954452",
   "metadata": {},
   "outputs": [],
   "source": [
    "pickle_in =  open(\"models_new\\X_train.pickle\",\"rb\")\n",
    "X_train = pickle.load(pickle_in)\n",
    "pickle_in =  open(\"models_new\\X_validation.pickle\",\"rb\")\n",
    "X_validation = pickle.load(pickle_in)\n",
    "pickle_in =  open(\"models_new\\X_test.pickle\",\"rb\")\n",
    "X_test = pickle.load(pickle_in)\n",
    "\n",
    "pickle_in =  open(\"models_new\\y_train.pickle\",\"rb\")\n",
    "y_train = pickle.load(pickle_in)\n",
    "pickle_in =  open(\"models_new\\y_validation.pickle\",\"rb\")\n",
    "y_validation = pickle.load(pickle_in)\n",
    "pickle_in =  open(\"models_new\\y_test.pickle\",\"rb\")\n",
    "y_test = pickle.load(pickle_in)"
   ]
  },
  {
   "cell_type": "markdown",
   "id": "8819cf86",
   "metadata": {},
   "source": [
    "# Preparation of the Neural Network"
   ]
  },
  {
   "cell_type": "code",
   "execution_count": 11,
   "id": "0e4db823",
   "metadata": {},
   "outputs": [],
   "source": [
    "model = tf.keras.applications.ResNet50(weights=\"imagenet\")\n",
    "base_input = model.layers[0].input\n",
    "base_output = model.layers[-3].output\n",
    "flat_layer = layers.Flatten()(base_output)\n",
    "another_layer = layers.Dense(1)(flat_layer)\n",
    "final_layer = layers.Activation('sigmoid')(another_layer)\n",
    "final_model = keras.Model(inputs=base_input, outputs = final_layer)\n",
    "\n",
    "i=0\n",
    "for layer in final_model.layers:\n",
    "    if(i == (len(final_model.layers) -2)):\n",
    "        break\n",
    "    else:\n",
    "        i = i + 1\n",
    "        layer.trainable = False\n",
    "\n",
    "final_model.compile(loss=\"binary_crossentropy\",optimizer=tf.keras.optimizers.Adam(learning_rate=0.01),metrics =[\"accuracy\"])\n",
    "\n",
    "callback = tf.keras.callbacks.ModelCheckpoint('best_val_loss_model.h5', monitor='val_loss', mode='min',verbose=1)"
   ]
  },
  {
   "cell_type": "markdown",
   "id": "4b0b448d",
   "metadata": {},
   "source": [
    "# Train of the Neural Network"
   ]
  },
  {
   "cell_type": "code",
   "execution_count": 12,
   "id": "4181a0bd",
   "metadata": {},
   "outputs": [
    {
     "name": "stdout",
     "output_type": "stream",
     "text": [
      "Epoch 1/15\n",
      "37/37 [==============================] - ETA: 0s - loss: 3.4742 - accuracy: 0.7222\n",
      "Epoch 1: saving model to best_val_loss_model.h5\n",
      "37/37 [==============================] - 22s 433ms/step - loss: 3.4742 - accuracy: 0.7222 - val_loss: 1.6541 - val_accuracy: 0.5754\n",
      "Epoch 2/15\n",
      "37/37 [==============================] - ETA: 0s - loss: 1.0600 - accuracy: 0.7554\n",
      "Epoch 2: saving model to best_val_loss_model.h5\n",
      "37/37 [==============================] - 14s 375ms/step - loss: 1.0600 - accuracy: 0.7554 - val_loss: 0.7402 - val_accuracy: 0.8338\n",
      "Epoch 3/15\n",
      "37/37 [==============================] - ETA: 0s - loss: 0.4887 - accuracy: 0.8718\n",
      "Epoch 3: saving model to best_val_loss_model.h5\n",
      "37/37 [==============================] - 14s 373ms/step - loss: 0.4887 - accuracy: 0.8718 - val_loss: 0.4625 - val_accuracy: 0.9054\n",
      "Epoch 4/15\n",
      "37/37 [==============================] - ETA: 0s - loss: 0.1863 - accuracy: 0.9497\n",
      "Epoch 4: saving model to best_val_loss_model.h5\n",
      "37/37 [==============================] - 14s 378ms/step - loss: 0.1863 - accuracy: 0.9497 - val_loss: 0.1371 - val_accuracy: 0.9616\n",
      "Epoch 5/15\n",
      "37/37 [==============================] - ETA: 0s - loss: 0.0908 - accuracy: 0.9727\n",
      "Epoch 5: saving model to best_val_loss_model.h5\n",
      "37/37 [==============================] - 14s 370ms/step - loss: 0.0908 - accuracy: 0.9727 - val_loss: 0.1274 - val_accuracy: 0.9604\n",
      "Epoch 6/15\n",
      "37/37 [==============================] - ETA: 0s - loss: 0.0646 - accuracy: 0.9813\n",
      "Epoch 6: saving model to best_val_loss_model.h5\n",
      "37/37 [==============================] - 14s 370ms/step - loss: 0.0646 - accuracy: 0.9813 - val_loss: 0.1462 - val_accuracy: 0.9591\n",
      "Epoch 7/15\n",
      "37/37 [==============================] - ETA: 0s - loss: 0.0432 - accuracy: 0.9859\n",
      "Epoch 7: saving model to best_val_loss_model.h5\n",
      "37/37 [==============================] - 14s 379ms/step - loss: 0.0432 - accuracy: 0.9859 - val_loss: 0.3577 - val_accuracy: 0.8875\n",
      "Epoch 8/15\n",
      "37/37 [==============================] - ETA: 0s - loss: 0.1093 - accuracy: 0.9638\n",
      "Epoch 8: saving model to best_val_loss_model.h5\n",
      "37/37 [==============================] - 14s 372ms/step - loss: 0.1093 - accuracy: 0.9638 - val_loss: 0.1292 - val_accuracy: 0.9514\n",
      "Epoch 9/15\n",
      "37/37 [==============================] - ETA: 0s - loss: 0.0648 - accuracy: 0.9774\n",
      "Epoch 9: saving model to best_val_loss_model.h5\n",
      "37/37 [==============================] - 14s 371ms/step - loss: 0.0648 - accuracy: 0.9774 - val_loss: 0.0838 - val_accuracy: 0.9744\n",
      "Epoch 10/15\n",
      "37/37 [==============================] - ETA: 0s - loss: 0.6340 - accuracy: 0.8726\n",
      "Epoch 10: saving model to best_val_loss_model.h5\n",
      "37/37 [==============================] - 14s 369ms/step - loss: 0.6340 - accuracy: 0.8726 - val_loss: 0.7877 - val_accuracy: 0.8619\n",
      "Epoch 11/15\n",
      "37/37 [==============================] - ETA: 0s - loss: 0.7191 - accuracy: 0.8943\n",
      "Epoch 11: saving model to best_val_loss_model.h5\n",
      "37/37 [==============================] - 14s 370ms/step - loss: 0.7191 - accuracy: 0.8943 - val_loss: 0.3342 - val_accuracy: 0.9297\n",
      "Epoch 12/15\n",
      "37/37 [==============================] - ETA: 0s - loss: 0.1529 - accuracy: 0.9629\n",
      "Epoch 12: saving model to best_val_loss_model.h5\n",
      "37/37 [==============================] - 14s 374ms/step - loss: 0.1529 - accuracy: 0.9629 - val_loss: 0.3664 - val_accuracy: 0.9284\n",
      "Epoch 13/15\n",
      "37/37 [==============================] - ETA: 0s - loss: 0.1078 - accuracy: 0.9697\n",
      "Epoch 13: saving model to best_val_loss_model.h5\n",
      "37/37 [==============================] - 14s 372ms/step - loss: 0.1078 - accuracy: 0.9697 - val_loss: 0.1799 - val_accuracy: 0.9604\n",
      "Epoch 14/15\n",
      "37/37 [==============================] - ETA: 0s - loss: 0.0470 - accuracy: 0.9842\n",
      "Epoch 14: saving model to best_val_loss_model.h5\n",
      "37/37 [==============================] - 14s 372ms/step - loss: 0.0470 - accuracy: 0.9842 - val_loss: 0.0940 - val_accuracy: 0.9744\n",
      "Epoch 15/15\n",
      "37/37 [==============================] - ETA: 0s - loss: 0.0466 - accuracy: 0.9842\n",
      "Epoch 15: saving model to best_val_loss_model.h5\n",
      "37/37 [==============================] - 14s 373ms/step - loss: 0.0466 - accuracy: 0.9842 - val_loss: 0.0947 - val_accuracy: 0.9770\n"
     ]
    }
   ],
   "source": [
    "history = final_model.fit(X_train,y_train,epochs = 15, validation_data = (X_validation,y_validation),batch_size = 64,callbacks=[callback])"
   ]
  },
  {
   "cell_type": "markdown",
   "id": "03a8f8b3",
   "metadata": {},
   "source": [
    "# Results"
   ]
  },
  {
   "cell_type": "code",
   "execution_count": 13,
   "id": "1a7c31fd",
   "metadata": {},
   "outputs": [
    {
     "name": "stdout",
     "output_type": "stream",
     "text": [
      "dict_keys(['loss', 'accuracy', 'val_loss', 'val_accuracy'])\n"
     ]
    },
    {
     "data": {
      "image/png": "[encoded data removed]",
      "text/plain": [
       "<Figure size 432x288 with 1 Axes>"
      ]
     },
     "metadata": {
      "needs_background": "light"
     },
     "output_type": "display_data"
    },
    {
     "data": {
      "image/png": "[encoded data removed]",
      "text/plain": [
       "<Figure size 432x288 with 1 Axes>"
      ]
     },
     "metadata": {
      "needs_background": "light"
     },
     "output_type": "display_data"
    }
   ],
   "source": [
    "print(history.history.keys())\n",
    "# summarize history for accuracy\n",
    "plt.plot(history.history['accuracy'])\n",
    "plt.plot(history.history['val_accuracy'])\n",
    "plt.title('model accuracy')\n",
    "plt.ylabel('accuracy')\n",
    "plt.xlabel('epoch')\n",
    "plt.legend(['train', 'validation'], loc='upper left')\n",
    "plt.show()\n",
    "# summarize history for loss\n",
    "plt.plot(history.history['loss'])\n",
    "plt.plot(history.history['val_loss'])\n",
    "plt.title('model loss')\n",
    "plt.ylabel('loss')\n",
    "plt.xlabel('epoch')\n",
    "plt.legend(['train', 'validation'], loc='upper left')\n",
    "plt.show()"
   ]
  },
  {
   "cell_type": "markdown",
   "id": "ba053caf",
   "metadata": {},
   "source": [
    "# Load Best Models"
   ]
  },
  {
   "cell_type": "code",
   "execution_count": 14,
   "id": "4325fc23",
   "metadata": {},
   "outputs": [],
   "source": [
    "best_model = tf.keras.models.load_model(\"best_val_loss_model.h5\")"
   ]
  },
  {
   "cell_type": "markdown",
   "id": "abe70019",
   "metadata": {},
   "source": [
    "# Performances on the Test Set"
   ]
  },
  {
   "cell_type": "code",
   "execution_count": 16,
   "id": "f02ae432",
   "metadata": {},
   "outputs": [],
   "source": [
    "def transform_to_labels(predictions):\n",
    "    y_predicted = []\n",
    "    for prediction in predictions:\n",
    "        if(prediction >= 0.5):\n",
    "            y_predicted.append(1)\n",
    "        else:\n",
    "            y_predicted.append(0)\n",
    "    return np.array(y_predicted)"
   ]
  },
  {
   "cell_type": "code",
   "execution_count": 17,
   "id": "221b6c42",
   "metadata": {},
   "outputs": [],
   "source": [
    "predicted_labels = transform_to_labels(best_model.predict(X_test[:,:,:,:]))"
   ]
  },
  {
   "cell_type": "code",
   "execution_count": 28,
   "id": "c84b9679",
   "metadata": {},
   "outputs": [
    {
     "name": "stdout",
     "output_type": "stream",
     "text": [
      "Accuracy on the Test Set :  0.9859514687100894\n"
     ]
    }
   ],
   "source": [
    "print(\"Accuracy on the Test Set : \" , ((len(y_test) - np.count_nonzero((predicted_labels + y_test) == 1)) / len(y_test)))"
   ]
  },
  {
   "cell_type": "code",
   "execution_count": null,
   "id": "6fb6836d",
   "metadata": {},
   "outputs": [],
   "source": []
  }
 ],
 "metadata": {
  "kernelspec": {
   "display_name": "Python 3",
   "language": "python",
   "name": "python3"
  },
  "language_info": {
   "codemirror_mode": {
    "name": "ipython",
    "version": 3
   },
   "file_extension": ".py",
   "mimetype": "text/x-python",
   "name": "python",
   "nbconvert_exporter": "python",
   "pygments_lexer": "ipython3",
   "version": "3.8.8"
  }
 },
 "nbformat": 4,
 "nbformat_minor": 5
}
