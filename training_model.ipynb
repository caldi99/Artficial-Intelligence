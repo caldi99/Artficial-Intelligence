{
 "cells": [
  {
   "cell_type": "markdown",
   "id": "d1c0d4d4",
   "metadata": {},
   "source": [
    "# In this notebook we are going to train the model that we are going to use for our final purposes"
   ]
  },
  {
   "cell_type": "code",
   "execution_count": 1,
   "id": "3975e567",
   "metadata": {},
   "outputs": [],
   "source": [
    "import pickle\n",
    "import tensorflow as tf\n",
    "from tensorflow.keras.preprocessing.image import ImageDataGenerator\n",
    "from tensorflow.keras.applications import ResNet50V2\n",
    "from tensorflow.keras.layers import Input\n",
    "from tensorflow.keras import layers\n",
    "import matplotlib.pyplot as plt"
   ]
  },
  {
   "cell_type": "markdown",
   "id": "b4f14f53",
   "metadata": {},
   "source": [
    "## Load Training, Validation and Test Data"
   ]
  },
  {
   "cell_type": "code",
   "execution_count": 2,
   "id": "61be87de",
   "metadata": {},
   "outputs": [],
   "source": [
    "pickle_in =  open(\"data\\X_train.data\",\"rb\")\n",
    "X_train = pickle.load(pickle_in)\n",
    "pickle_in.close()\n",
    "\n",
    "pickle_in =  open(\"data\\X_validation.data\",\"rb\")\n",
    "X_validation = pickle.load(pickle_in)\n",
    "pickle_in.close()\n",
    "\n",
    "pickle_in =  open(\"data\\X_test.data\",\"rb\")\n",
    "X_test = pickle.load(pickle_in)\n",
    "pickle_in.close()\n",
    "\n",
    "pickle_in =  open(\"data\\y_train.data\",\"rb\")\n",
    "y_train = pickle.load(pickle_in)\n",
    "pickle_in.close()\n",
    "\n",
    "pickle_in =  open(\"data\\y_validation.data\",\"rb\")\n",
    "y_validation = pickle.load(pickle_in)\n",
    "pickle_in.close()\n",
    "\n",
    "pickle_in =  open(\"data\\y_test.data\",\"rb\")\n",
    "y_test = pickle.load(pickle_in)\n",
    "pickle_in.close()"
   ]
  },
  {
   "cell_type": "markdown",
   "id": "c7c27016",
   "metadata": {},
   "source": [
    "## Model preparation"
   ]
  },
  {
   "cell_type": "code",
   "execution_count": 3,
   "id": "622404c6",
   "metadata": {},
   "outputs": [],
   "source": [
    "img_size = 224\n",
    "channels = 3\n",
    "\n",
    "\n",
    "aug = ImageDataGenerator(rotation_range = 20,\n",
    "                         zoom_range = 0.15,\n",
    "                         width_shift_range = 0.2,\n",
    "                         height_shift_range = 0.2,\n",
    "                         shear_range = 0.15,\n",
    "                         horizontal_flip = True,\n",
    "                         fill_mode = \"nearest\")\n",
    "\n",
    "\n",
    "feature_extractor_layer = ResNet50V2(weights = \"imagenet\", #pretrained deep neural network with imaagenet dataset\n",
    "                                   include_top = False, # do not inclued the fully connected layers because we are applying fine tuning\n",
    "                                   input_tensor = Input(shape = (img_size,img_size,channels))) #size of the input\n",
    "\n",
    "feature_extractor_layer.trainable = False #fine tuning\n",
    "\n",
    "model = tf.keras.Sequential([\n",
    "    feature_extractor_layer,\n",
    "    layers.Flatten(name=\"flatten\"),\n",
    "    layers.Dense(1024, activation='relu', name='hidden_layer'),\n",
    "    layers.Dropout(0.5),\n",
    "    layers.Dense(2, activation='sigmoid', name='output') #2 nodes one for each class\n",
    "])\n",
    "\n",
    "LR = 1e-5\n",
    "\n",
    "model.compile(optimizer = tf.keras.optimizers.Adam(learning_rate = LR),\n",
    "              loss = \"binary_crossentropy\", \n",
    "              metrics = [\"accuracy\"])\n",
    "\n",
    "callback = tf.keras.callbacks.ModelCheckpoint('model_last.h5', \n",
    "                                              monitor = 'val_loss', \n",
    "                                              mode='min',\n",
    "                                              verbose = 1)\n"
   ]
  },
  {
   "cell_type": "markdown",
   "id": "578a5c63",
   "metadata": {},
   "source": [
    "## Train of the Neural Network"
   ]
  },
  {
   "cell_type": "code",
   "execution_count": 4,
   "id": "8c993471",
   "metadata": {},
   "outputs": [
    {
     "name": "stdout",
     "output_type": "stream",
     "text": [
      "Epoch 1/30\n",
      "17/17 [==============================] - ETA: 0s - loss: 0.3833 - accuracy: 0.8830\n",
      "Epoch 1: saving model to model_last.h5\n",
      "17/17 [==============================] - 47s 2s/step - loss: 0.3833 - accuracy: 0.8830 - val_loss: 0.0698 - val_accuracy: 0.9804\n",
      "Epoch 2/30\n",
      "17/17 [==============================] - ETA: 0s - loss: 0.0791 - accuracy: 0.9816\n",
      "Epoch 2: saving model to model_last.h5\n",
      "17/17 [==============================] - 36s 2s/step - loss: 0.0791 - accuracy: 0.9816 - val_loss: 0.0591 - val_accuracy: 0.9856\n",
      "Epoch 3/30\n",
      "17/17 [==============================] - ETA: 0s - loss: 0.0373 - accuracy: 0.9926\n",
      "Epoch 3: saving model to model_last.h5\n",
      "17/17 [==============================] - 36s 2s/step - loss: 0.0373 - accuracy: 0.9926 - val_loss: 0.0484 - val_accuracy: 0.9869\n",
      "Epoch 4/30\n",
      "17/17 [==============================] - ETA: 0s - loss: 0.0268 - accuracy: 0.9936\n",
      "Epoch 4: saving model to model_last.h5\n",
      "17/17 [==============================] - 36s 2s/step - loss: 0.0268 - accuracy: 0.9936 - val_loss: 0.0405 - val_accuracy: 0.9883\n",
      "Epoch 5/30\n",
      "17/17 [==============================] - ETA: 0s - loss: 0.0418 - accuracy: 0.9894\n",
      "Epoch 5: saving model to model_last.h5\n",
      "17/17 [==============================] - 36s 2s/step - loss: 0.0418 - accuracy: 0.9894 - val_loss: 0.0355 - val_accuracy: 0.9896\n",
      "Epoch 6/30\n",
      "17/17 [==============================] - ETA: 0s - loss: 0.0424 - accuracy: 0.9903\n",
      "Epoch 6: saving model to model_last.h5\n",
      "17/17 [==============================] - 36s 2s/step - loss: 0.0424 - accuracy: 0.9903 - val_loss: 0.0318 - val_accuracy: 0.9896\n",
      "Epoch 7/30\n",
      "17/17 [==============================] - ETA: 0s - loss: 0.0466 - accuracy: 0.9903\n",
      "Epoch 7: saving model to model_last.h5\n",
      "17/17 [==============================] - 37s 2s/step - loss: 0.0466 - accuracy: 0.9903 - val_loss: 0.0287 - val_accuracy: 0.9896\n",
      "Epoch 8/30\n",
      "17/17 [==============================] - ETA: 0s - loss: 0.0296 - accuracy: 0.9931\n",
      "Epoch 8: saving model to model_last.h5\n",
      "17/17 [==============================] - 36s 2s/step - loss: 0.0296 - accuracy: 0.9931 - val_loss: 0.0296 - val_accuracy: 0.9909\n",
      "Epoch 9/30\n",
      "17/17 [==============================] - ETA: 0s - loss: 0.0312 - accuracy: 0.9917\n",
      "Epoch 9: saving model to model_last.h5\n",
      "17/17 [==============================] - 36s 2s/step - loss: 0.0312 - accuracy: 0.9917 - val_loss: 0.0269 - val_accuracy: 0.9909\n",
      "Epoch 10/30\n",
      "17/17 [==============================] - ETA: 0s - loss: 0.0236 - accuracy: 0.9945\n",
      "Epoch 10: saving model to model_last.h5\n",
      "17/17 [==============================] - 36s 2s/step - loss: 0.0236 - accuracy: 0.9945 - val_loss: 0.0256 - val_accuracy: 0.9909\n",
      "Epoch 11/30\n",
      "17/17 [==============================] - ETA: 0s - loss: 0.0215 - accuracy: 0.9968\n",
      "Epoch 11: saving model to model_last.h5\n",
      "17/17 [==============================] - 36s 2s/step - loss: 0.0215 - accuracy: 0.9968 - val_loss: 0.0230 - val_accuracy: 0.9922\n",
      "Epoch 12/30\n",
      "17/17 [==============================] - ETA: 0s - loss: 0.0244 - accuracy: 0.9940\n",
      "Epoch 12: saving model to model_last.h5\n",
      "17/17 [==============================] - 36s 2s/step - loss: 0.0244 - accuracy: 0.9940 - val_loss: 0.0209 - val_accuracy: 0.9922\n",
      "Epoch 13/30\n",
      "17/17 [==============================] - ETA: 0s - loss: 0.0151 - accuracy: 0.9977\n",
      "Epoch 13: saving model to model_last.h5\n",
      "17/17 [==============================] - 36s 2s/step - loss: 0.0151 - accuracy: 0.9977 - val_loss: 0.0197 - val_accuracy: 0.9922\n",
      "Epoch 14/30\n",
      "17/17 [==============================] - ETA: 0s - loss: 0.0212 - accuracy: 0.9959\n",
      "Epoch 14: saving model to model_last.h5\n",
      "17/17 [==============================] - 37s 2s/step - loss: 0.0212 - accuracy: 0.9959 - val_loss: 0.0190 - val_accuracy: 0.9922\n",
      "Epoch 15/30\n",
      "17/17 [==============================] - ETA: 0s - loss: 0.0197 - accuracy: 0.9954\n",
      "Epoch 15: saving model to model_last.h5\n",
      "17/17 [==============================] - 36s 2s/step - loss: 0.0197 - accuracy: 0.9954 - val_loss: 0.0197 - val_accuracy: 0.9922\n",
      "Epoch 16/30\n",
      "17/17 [==============================] - ETA: 0s - loss: 0.0197 - accuracy: 0.9959\n",
      "Epoch 16: saving model to model_last.h5\n",
      "17/17 [==============================] - 37s 2s/step - loss: 0.0197 - accuracy: 0.9959 - val_loss: 0.0166 - val_accuracy: 0.9935\n",
      "Epoch 17/30\n",
      "17/17 [==============================] - ETA: 0s - loss: 0.0131 - accuracy: 0.9972\n",
      "Epoch 17: saving model to model_last.h5\n",
      "17/17 [==============================] - 36s 2s/step - loss: 0.0131 - accuracy: 0.9972 - val_loss: 0.0154 - val_accuracy: 0.9948\n",
      "Epoch 18/30\n",
      "17/17 [==============================] - ETA: 0s - loss: 0.0117 - accuracy: 0.9972\n",
      "Epoch 18: saving model to model_last.h5\n",
      "17/17 [==============================] - 36s 2s/step - loss: 0.0117 - accuracy: 0.9972 - val_loss: 0.0150 - val_accuracy: 0.9948\n",
      "Epoch 19/30\n",
      "17/17 [==============================] - ETA: 0s - loss: 0.0162 - accuracy: 0.9972\n",
      "Epoch 19: saving model to model_last.h5\n",
      "17/17 [==============================] - 36s 2s/step - loss: 0.0162 - accuracy: 0.9972 - val_loss: 0.0154 - val_accuracy: 0.9961\n",
      "Epoch 20/30\n",
      "17/17 [==============================] - ETA: 0s - loss: 0.0126 - accuracy: 0.9986\n",
      "Epoch 20: saving model to model_last.h5\n",
      "17/17 [==============================] - 36s 2s/step - loss: 0.0126 - accuracy: 0.9986 - val_loss: 0.0149 - val_accuracy: 0.9948\n",
      "Epoch 21/30\n",
      "17/17 [==============================] - ETA: 0s - loss: 0.0128 - accuracy: 0.9977\n",
      "Epoch 21: saving model to model_last.h5\n",
      "17/17 [==============================] - 36s 2s/step - loss: 0.0128 - accuracy: 0.9977 - val_loss: 0.0144 - val_accuracy: 0.9935\n",
      "Epoch 22/30\n",
      "17/17 [==============================] - ETA: 0s - loss: 0.0104 - accuracy: 0.9982\n",
      "Epoch 22: saving model to model_last.h5\n",
      "17/17 [==============================] - 37s 2s/step - loss: 0.0104 - accuracy: 0.9982 - val_loss: 0.0147 - val_accuracy: 0.9948\n",
      "Epoch 23/30\n",
      "17/17 [==============================] - ETA: 0s - loss: 0.0074 - accuracy: 0.9986\n",
      "Epoch 23: saving model to model_last.h5\n",
      "17/17 [==============================] - 36s 2s/step - loss: 0.0074 - accuracy: 0.9986 - val_loss: 0.0156 - val_accuracy: 0.9935\n",
      "Epoch 24/30\n",
      "17/17 [==============================] - ETA: 0s - loss: 0.0142 - accuracy: 0.9963\n",
      "Epoch 24: saving model to model_last.h5\n",
      "17/17 [==============================] - 36s 2s/step - loss: 0.0142 - accuracy: 0.9963 - val_loss: 0.0128 - val_accuracy: 0.9948\n",
      "Epoch 25/30\n",
      "17/17 [==============================] - ETA: 0s - loss: 0.0106 - accuracy: 0.9982\n",
      "Epoch 25: saving model to model_last.h5\n",
      "17/17 [==============================] - 36s 2s/step - loss: 0.0106 - accuracy: 0.9982 - val_loss: 0.0134 - val_accuracy: 0.9935\n",
      "Epoch 26/30\n",
      "17/17 [==============================] - ETA: 0s - loss: 0.0107 - accuracy: 0.9982\n",
      "Epoch 26: saving model to model_last.h5\n",
      "17/17 [==============================] - 36s 2s/step - loss: 0.0107 - accuracy: 0.9982 - val_loss: 0.0144 - val_accuracy: 0.9948\n",
      "Epoch 27/30\n",
      "17/17 [==============================] - ETA: 0s - loss: 0.0136 - accuracy: 0.9972\n",
      "Epoch 27: saving model to model_last.h5\n",
      "17/17 [==============================] - 36s 2s/step - loss: 0.0136 - accuracy: 0.9972 - val_loss: 0.0150 - val_accuracy: 0.9961\n",
      "Epoch 28/30\n",
      "17/17 [==============================] - ETA: 0s - loss: 0.0042 - accuracy: 0.9991\n",
      "Epoch 28: saving model to model_last.h5\n",
      "17/17 [==============================] - 37s 2s/step - loss: 0.0042 - accuracy: 0.9991 - val_loss: 0.0139 - val_accuracy: 0.9961\n",
      "Epoch 29/30\n",
      "17/17 [==============================] - ETA: 0s - loss: 0.0081 - accuracy: 0.9986\n",
      "Epoch 29: saving model to model_last.h5\n",
      "17/17 [==============================] - 36s 2s/step - loss: 0.0081 - accuracy: 0.9986 - val_loss: 0.0152 - val_accuracy: 0.9935\n",
      "Epoch 30/30\n",
      "17/17 [==============================] - ETA: 0s - loss: 0.0087 - accuracy: 0.9977\n",
      "Epoch 30: saving model to model_last.h5\n",
      "17/17 [==============================] - 36s 2s/step - loss: 0.0087 - accuracy: 0.9977 - val_loss: 0.0164 - val_accuracy: 0.9948\n"
     ]
    }
   ],
   "source": [
    "EPOCHS = 30\n",
    "BS = 128\n",
    "\n",
    "history = model.fit(aug.flow(X_train, y_train, batch_size=BS), \n",
    "                    epochs = EPOCHS,\n",
    "                    steps_per_epoch = len(X_train) // BS, \n",
    "                    validation_data = (X_validation, y_validation), \n",
    "                    callbacks = [callback])\n"
   ]
  },
  {
   "cell_type": "markdown",
   "id": "163a9ff0",
   "metadata": {},
   "source": [
    "## Results"
   ]
  },
  {
   "cell_type": "code",
   "execution_count": 5,
   "id": "16a15e8e",
   "metadata": {},
   "outputs": [
    {
     "name": "stdout",
     "output_type": "stream",
     "text": [
      "dict_keys(['loss', 'accuracy', 'val_loss', 'val_accuracy'])\n"
     ]
    },
    {
     "data": {
      "image/png": "[encoded data removed]",
      "text/plain": [
       "<Figure size 432x288 with 1 Axes>"
      ]
     },
     "metadata": {
      "needs_background": "light"
     },
     "output_type": "display_data"
    },
    {
     "data": {
      "image/png": "[encoded data removed]",
      "text/plain": [
       "<Figure size 432x288 with 1 Axes>"
      ]
     },
     "metadata": {
      "needs_background": "light"
     },
     "output_type": "display_data"
    }
   ],
   "source": [
    "print(history.history.keys())\n",
    "# summarize history for accuracy\n",
    "plt.plot(history.history['accuracy'])\n",
    "plt.plot(history.history['val_accuracy'])\n",
    "plt.title('model accuracy')\n",
    "plt.ylabel('accuracy')\n",
    "plt.xlabel('epoch')\n",
    "plt.legend(['train', 'validation'], loc='upper left')\n",
    "plt.show()\n",
    "# summarize history for loss\n",
    "plt.plot(history.history['loss'])\n",
    "plt.plot(history.history['val_loss'])\n",
    "plt.title('model loss')\n",
    "plt.ylabel('loss')\n",
    "plt.xlabel('epoch')\n",
    "plt.legend(['train', 'validation'], loc='upper left')\n",
    "plt.show()"
   ]
  },
  {
   "cell_type": "markdown",
   "id": "fc7158ea",
   "metadata": {},
   "source": [
    "## Performances on the Test Set"
   ]
  },
  {
   "cell_type": "code",
   "execution_count": 7,
   "id": "da90da88",
   "metadata": {},
   "outputs": [],
   "source": [
    "import numpy as np\n",
    "predictions = model.predict(X_test)\n",
    "predicted = []\n",
    "for with_mask,without_mask in predictions:\n",
    "    if(with_mask > without_mask):\n",
    "        predicted.append([1,0])\n",
    "    else:\n",
    "        predicted.append([0,1])\n",
    "predicted = np.array(predicted)"
   ]
  },
  {
   "cell_type": "code",
   "execution_count": 8,
   "id": "5df3240e",
   "metadata": {},
   "outputs": [],
   "source": [
    "def transform_to_labels(array):\n",
    "    labels = []\n",
    "    for mask,no_mask in array:\n",
    "        if(mask == 1):\n",
    "            labels.append(0)\n",
    "        else:\n",
    "            labels.append(1)\n",
    "    return np.array(labels)"
   ]
  },
  {
   "cell_type": "code",
   "execution_count": 9,
   "id": "082e1650",
   "metadata": {},
   "outputs": [],
   "source": [
    "predicted_labels = transform_to_labels(predicted)\n",
    "y_test = transform_to_labels(y_test)"
   ]
  },
  {
   "cell_type": "code",
   "execution_count": 10,
   "id": "31a30c68",
   "metadata": {},
   "outputs": [
    {
     "name": "stdout",
     "output_type": "stream",
     "text": [
      "Accuracy on the Test Set :  0.9934810951760105\n"
     ]
    }
   ],
   "source": [
    "print(\"Accuracy on the Test Set : \" , ((len(y_test) - np.count_nonzero((predicted_labels + y_test) == 1)) / len(y_test)))"
   ]
  }
 ],
 "metadata": {
  "kernelspec": {
   "display_name": "Python 3",
   "language": "python",
   "name": "python3"
  },
  "language_info": {
   "codemirror_mode": {
    "name": "ipython",
    "version": 3
   },
   "file_extension": ".py",
   "mimetype": "text/x-python",
   "name": "python",
   "nbconvert_exporter": "python",
   "pygments_lexer": "ipython3",
   "version": "3.8.8"
  }
 },
 "nbformat": 4,
 "nbformat_minor": 5
}
