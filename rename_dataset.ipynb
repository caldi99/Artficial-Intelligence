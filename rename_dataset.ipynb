{
 "cells": [
  {
   "cell_type": "code",
   "execution_count": 4,
   "id": "1445be9f",
   "metadata": {},
   "outputs": [],
   "source": [
    "import os\n",
    "import numpy as np"
   ]
  },
  {
   "cell_type": "markdown",
   "id": "338fe46b",
   "metadata": {},
   "source": [
    "# Raname the images names"
   ]
  },
  {
   "cell_type": "code",
   "execution_count": 5,
   "id": "2354dec7",
   "metadata": {},
   "outputs": [],
   "source": [
    "def rename_images(names,main_directory,sub_directory):\n",
    "    index = 0\n",
    "    img = \"img\"\n",
    "    for name in names:   \n",
    "        extension = name.split(\".\")[1]\n",
    "        old_path = os.path.join(main_directory,sub_directory) + \"\\\\\" + name    \n",
    "        new_path = os.path.join(main_directory,sub_directory) + \"\\\\\" + img + str(index) + \".\" + extension\n",
    "        os.rename(old_path,new_path)\n",
    "        index = index + 1"
   ]
  },
  {
   "cell_type": "code",
   "execution_count": 6,
   "id": "2cd05a7c",
   "metadata": {},
   "outputs": [],
   "source": [
    "main_directory = \"dataset\"\n",
    "with_mask = \"with_mask\"\n",
    "without_mask = \"without_mask\"\n",
    "\n",
    "\n",
    "names_images_with_mask = np.array(os.listdir(os.path.join(main_directory,with_mask)))\n",
    "names_images_without_mask = np.array(os.listdir(os.path.join(main_directory,without_mask)))\n",
    "\n",
    "rename_images(names_images_with_mask,main_directory,with_mask)\n",
    "rename_images(names_images_without_mask,main_directory,without_mask)"
   ]
  }
 ],
 "metadata": {
  "kernelspec": {
   "display_name": "Python 3",
   "language": "python",
   "name": "python3"
  },
  "language_info": {
   "codemirror_mode": {
    "name": "ipython",
    "version": 3
   },
   "file_extension": ".py",
   "mimetype": "text/x-python",
   "name": "python",
   "nbconvert_exporter": "python",
   "pygments_lexer": "ipython3",
   "version": "3.8.8"
  }
 },
 "nbformat": 4,
 "nbformat_minor": 5
}
